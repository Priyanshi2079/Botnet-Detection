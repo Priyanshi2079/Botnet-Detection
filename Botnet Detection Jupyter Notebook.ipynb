{
  "nbformat": 4,
  "nbformat_minor": 0,
  "metadata": {
    "colab": {
      "name": "ENPM 694 Project.ipynb",
      "provenance": [],
      "collapsed_sections": []
    },
    "kernelspec": {
      "name": "python3",
      "display_name": "Python 3"
    }
  },
  "cells": [
    {
      "cell_type": "code",
      "metadata": {
        "id": "wVShsqy8rWfH"
      },
      "source": [
        "import pickle\r\n",
        "\r\n",
        "dataset_file = open('/content/drive/MyDrive/ENPM 694 Project/flowdata.pickle', 'rb')\r\n",
        "dataset = pickle.load(dataset_file, encoding='bytes')\r\n",
        "\r\n",
        "X_train, Y_train, X_test, Y_test = dataset[0], dataset[1], dataset[2], dataset[3]"
      ],
      "execution_count": null,
      "outputs": []
    },
    {
      "cell_type": "code",
      "metadata": {
        "colab": {
          "base_uri": "https://localhost:8080/"
        },
        "id": "dbuM5Z0Is4Xg",
        "outputId": "28165811-fbdd-4322-fc2b-6e03a5115bf2"
      },
      "source": [
        "print(\"The training data contains:\", X_train.shape[0], \"records and\", X_train.shape[1], \"columns\")\r\n",
        "print(\"The testing data contains:\", X_test.shape[0], \"records and\", X_test.shape[1], \"columns\")"
      ],
      "execution_count": null,
      "outputs": [
        {
          "output_type": "stream",
          "text": [
            "The training data contains: 40002 records and 9 columns\n",
            "The testing data contains: 10002 records and 9 columns\n"
          ],
          "name": "stdout"
        }
      ]
    },
    {
      "cell_type": "code",
      "metadata": {
        "id": "wGSrWskEWkeM",
        "colab": {
          "base_uri": "https://localhost:8080/"
        },
        "outputId": "85563607-6b0d-4938-cb32-0544f89360ff"
      },
      "source": [
        "X_train[0]"
      ],
      "execution_count": null,
      "outputs": [
        {
          "output_type": "execute_result",
          "data": {
            "text/plain": [
              "array([1.02653900e+00, 0.00000000e+00, 1.57700000e+03, 6.88100000e+03,\n",
              "       1.57997451e+09, 2.46836947e+09, 4.00000000e+00, 2.76000000e+02,\n",
              "       6.11050000e+04])"
            ]
          },
          "metadata": {
            "tags": []
          },
          "execution_count": 6
        }
      ]
    },
    {
      "cell_type": "markdown",
      "metadata": {
        "id": "Qus7L5JOwyY7"
      },
      "source": [
        "# The following Machine Learning Models are used:\r\n",
        "### 1. SVM\r\n",
        "### 2. Logistic Regression\r\n",
        "### 3. Decision Tree\r\n",
        "### 4. Random Forest\r\n",
        "### 5. Naive Bayes\r\n",
        "### 6. K Nearest Neighbours\r\n",
        "### 7. Simple Neural Network\r\n",
        "\r\n",
        "The different Models will be compared with each other in terms of performance metrics such as Accuracy, Precision, Recall, etc."
      ]
    },
    {
      "cell_type": "code",
      "metadata": {
        "id": "_4Wen-kBvxOz"
      },
      "source": [
        "import numpy as np\r\n",
        "\r\n",
        "from sklearn.preprocessing import *\r\n",
        "from sklearn.svm import *\r\n",
        "from sklearn.metrics import *\r\n",
        "from sklearn.linear_model import *\r\n",
        "from sklearn.tree import *\r\n",
        "from sklearn.ensemble import *\r\n",
        "from sklearn.naive_bayes import *\r\n",
        "from sklearn.neighbors import *\r\n",
        "\r\n",
        "from keras.models import *\r\n",
        "from keras.layers import *\r\n",
        "from keras.optimizers import *\r\n",
        "\r\n",
        "import matplotlib.pyplot as plt\r\n",
        "\r\n",
        "accuracy = []\r\n",
        "precision = []\r\n",
        "recall = []"
      ],
      "execution_count": null,
      "outputs": []
    },
    {
      "cell_type": "markdown",
      "metadata": {
        "id": "X5f0yd7uyyXp"
      },
      "source": [
        "# SVM Model"
      ]
    },
    {
      "cell_type": "markdown",
      "metadata": {
        "id": "xVESzFE50VZx"
      },
      "source": [
        "### As the dataset is shared among all the algorithms, creating a local copy will leave the original data un-touched"
      ]
    },
    {
      "cell_type": "code",
      "metadata": {
        "id": "soQTs4nw0MvH"
      },
      "source": [
        "x_train = np.zeros(X_train.shape)\r\n",
        "np.copyto(x_train, X_train)\r\n",
        "\r\n",
        "y_train = np.zeros(Y_train.shape)\r\n",
        "np.copyto(y_train, Y_train)\r\n",
        "\r\n",
        "x_test = np.zeros(X_test.shape)\r\n",
        "np.copyto(x_test, X_test)\r\n",
        "\r\n",
        "y_test = np.zeros(Y_test.shape)\r\n",
        "np.copyto(y_test, Y_test)"
      ],
      "execution_count": null,
      "outputs": []
    },
    {
      "cell_type": "markdown",
      "metadata": {
        "id": "P0OIJudnA664"
      },
      "source": [
        "### Scaling the Data"
      ]
    },
    {
      "cell_type": "code",
      "metadata": {
        "id": "5A8homrt2CrY"
      },
      "source": [
        "sc = StandardScaler()\r\n",
        "x_train = sc.fit_transform(x_train)\r\n",
        "x_test = sc.transform(x_test)"
      ],
      "execution_count": null,
      "outputs": []
    },
    {
      "cell_type": "markdown",
      "metadata": {
        "id": "Gx3M0E9PBB_t"
      },
      "source": [
        "### Fit Model"
      ]
    },
    {
      "cell_type": "code",
      "metadata": {
        "id": "aK1h1VzQ4xGZ"
      },
      "source": [
        "svmModel = SVC(kernel='rbf')\r\n",
        "svmModel.fit(x_train, y_train)\r\n",
        "y_pred = svmModel.predict(x_test)"
      ],
      "execution_count": null,
      "outputs": []
    },
    {
      "cell_type": "markdown",
      "metadata": {
        "id": "uG8IT6bfBJH9"
      },
      "source": [
        "### Performance Metrics"
      ]
    },
    {
      "cell_type": "code",
      "metadata": {
        "colab": {
          "base_uri": "https://localhost:8080/"
        },
        "id": "qWkw5N_E758h",
        "outputId": "7324b829-9d53-41b0-d34e-6dcfcccdf500"
      },
      "source": [
        "print(\"Confusion Matrix is as follows:\")\r\n",
        "svm_cm = confusion_matrix(y_test, y_pred)\r\n",
        "print(svm_cm)\r\n",
        "print(\"\\nThe accuracy is:\")\r\n",
        "svm_acc = accuracy_score(y_test, y_pred) * 100\r\n",
        "print(svm_acc)\r\n",
        "accuracy.append(svm_acc)\r\n",
        "p = precision_score(y_test, y_pred)\r\n",
        "precision.append(p)\r\n",
        "r = recall_score(y_test, y_pred)\r\n",
        "recall.append(r)"
      ],
      "execution_count": null,
      "outputs": [
        {
          "output_type": "stream",
          "text": [
            "Confusion Matrix is as follows:\n",
            "[[4816  185]\n",
            " [   0 5001]]\n",
            "\n",
            "The accuracy is:\n",
            "98.1503699260148\n"
          ],
          "name": "stdout"
        }
      ]
    },
    {
      "cell_type": "markdown",
      "metadata": {
        "id": "rz-xi7kA_58x"
      },
      "source": [
        "# Logistic Regression Model\r\n",
        "\r\n"
      ]
    },
    {
      "cell_type": "markdown",
      "metadata": {
        "id": "RtRNUhh2B2IV"
      },
      "source": [
        "### Creating copy of the Data"
      ]
    },
    {
      "cell_type": "code",
      "metadata": {
        "id": "vH1kDWuz-_Dq"
      },
      "source": [
        "x_train = np.zeros(X_train.shape)\r\n",
        "np.copyto(x_train, X_train)\r\n",
        "\r\n",
        "y_train = np.zeros(Y_train.shape)\r\n",
        "np.copyto(y_train, Y_train)\r\n",
        "\r\n",
        "x_test = np.zeros(X_test.shape)\r\n",
        "np.copyto(x_test, X_test)\r\n",
        "\r\n",
        "y_test = np.zeros(Y_test.shape)\r\n",
        "np.copyto(y_test, Y_test)"
      ],
      "execution_count": null,
      "outputs": []
    },
    {
      "cell_type": "markdown",
      "metadata": {
        "id": "5soPdierCP7j"
      },
      "source": [
        "### Scaling the Data"
      ]
    },
    {
      "cell_type": "code",
      "metadata": {
        "id": "p1fLaY9oCJOR"
      },
      "source": [
        "sc = StandardScaler()\r\n",
        "x_train = sc.fit_transform(x_train)\r\n",
        "x_test = sc.transform(x_test)"
      ],
      "execution_count": null,
      "outputs": []
    },
    {
      "cell_type": "markdown",
      "metadata": {
        "id": "iCbM40CZCwS0"
      },
      "source": [
        "### Fit Model"
      ]
    },
    {
      "cell_type": "code",
      "metadata": {
        "id": "L5dIOLGACuhg"
      },
      "source": [
        "logisticModel = LogisticRegression(C=10000)\r\n",
        "logisticModel.fit(x_train, y_train)\r\n",
        "y_pred = logisticModel.predict(x_test)"
      ],
      "execution_count": null,
      "outputs": []
    },
    {
      "cell_type": "markdown",
      "metadata": {
        "id": "OWVeIvNCEfRe"
      },
      "source": [
        "### Performance Metrics"
      ]
    },
    {
      "cell_type": "code",
      "metadata": {
        "colab": {
          "base_uri": "https://localhost:8080/"
        },
        "id": "Vun1pRu3EbBT",
        "outputId": "763c1706-420a-4039-9d52-ff7c026d3f7d"
      },
      "source": [
        "print(\"Confusion Matrix is as follows:\")\r\n",
        "log_cm = confusion_matrix(y_test, y_pred)\r\n",
        "print(log_cm)\r\n",
        "print(\"\\nThe accuracy is:\")\r\n",
        "log_acc = accuracy_score(y_test, y_pred) * 100\r\n",
        "print(log_acc)\r\n",
        "accuracy.append(log_acc)\r\n",
        "p = precision_score(y_test, y_pred)\r\n",
        "precision.append(p)\r\n",
        "r = recall_score(y_test, y_pred)\r\n",
        "recall.append(r)"
      ],
      "execution_count": null,
      "outputs": [
        {
          "output_type": "stream",
          "text": [
            "Confusion Matrix is as follows:\n",
            "[[4690  311]\n",
            " [   6 4995]]\n",
            "\n",
            "The accuracy is:\n",
            "96.83063387322535\n"
          ],
          "name": "stdout"
        }
      ]
    },
    {
      "cell_type": "markdown",
      "metadata": {
        "id": "MAWQs0iEFaCP"
      },
      "source": [
        "# Decision Tree Model"
      ]
    },
    {
      "cell_type": "markdown",
      "metadata": {
        "id": "jDHrGNxiFjM6"
      },
      "source": [
        "### Creating copy of the Data"
      ]
    },
    {
      "cell_type": "code",
      "metadata": {
        "id": "OT4p0MCmFEXj"
      },
      "source": [
        "x_train = np.zeros(X_train.shape)\r\n",
        "np.copyto(x_train, X_train)\r\n",
        "\r\n",
        "y_train = np.zeros(Y_train.shape)\r\n",
        "np.copyto(y_train, Y_train)\r\n",
        "\r\n",
        "x_test = np.zeros(X_test.shape)\r\n",
        "np.copyto(x_test, X_test)\r\n",
        "\r\n",
        "y_test = np.zeros(Y_test.shape)\r\n",
        "np.copyto(y_test, Y_test)"
      ],
      "execution_count": null,
      "outputs": []
    },
    {
      "cell_type": "markdown",
      "metadata": {
        "id": "isszf8KzFvT-"
      },
      "source": [
        "### Fit Model"
      ]
    },
    {
      "cell_type": "code",
      "metadata": {
        "id": "w6nYiJAvFurc"
      },
      "source": [
        "dtModel = DecisionTreeClassifier()\r\n",
        "dtModel.fit(x_train, y_train)\r\n",
        "y_pred = dtModel.predict(x_test)"
      ],
      "execution_count": null,
      "outputs": []
    },
    {
      "cell_type": "markdown",
      "metadata": {
        "id": "hBB7cmNaGf-T"
      },
      "source": [
        "### Performance Metrics"
      ]
    },
    {
      "cell_type": "code",
      "metadata": {
        "colab": {
          "base_uri": "https://localhost:8080/"
        },
        "id": "qnVP99QNGe4M",
        "outputId": "aea47fb3-71a5-46d5-9399-a521bb51dd1b"
      },
      "source": [
        "print(\"Confusion Matrix is as follows:\")\r\n",
        "dt_cm = confusion_matrix(y_test, y_pred)\r\n",
        "print(dt_cm)\r\n",
        "print(\"\\nThe accuracy is:\")\r\n",
        "dt_acc = accuracy_score(y_test, y_pred) * 100\r\n",
        "print(dt_acc)\r\n",
        "accuracy.append(dt_acc)\r\n",
        "p = precision_score(y_test, y_pred)\r\n",
        "precision.append(p)\r\n",
        "r = recall_score(y_test, y_pred)\r\n",
        "recall.append(r)"
      ],
      "execution_count": null,
      "outputs": [
        {
          "output_type": "stream",
          "text": [
            "Confusion Matrix is as follows:\n",
            "[[4991   10]\n",
            " [   0 5001]]\n",
            "\n",
            "The accuracy is:\n",
            "99.9000199960008\n"
          ],
          "name": "stdout"
        }
      ]
    },
    {
      "cell_type": "markdown",
      "metadata": {
        "id": "JmSqkL1PguGb"
      },
      "source": [
        "# Random Forest Model"
      ]
    },
    {
      "cell_type": "markdown",
      "metadata": {
        "id": "2mp8uCDrguGc"
      },
      "source": [
        "### Creating copy of Data"
      ]
    },
    {
      "cell_type": "code",
      "metadata": {
        "id": "qWBYeRcwguGc"
      },
      "source": [
        "x_train = np.zeros(X_train.shape)\r\n",
        "np.copyto(x_train, X_train)\r\n",
        "\r\n",
        "y_train = np.zeros(Y_train.shape)\r\n",
        "np.copyto(y_train, Y_train)\r\n",
        "\r\n",
        "x_test = np.zeros(X_test.shape)\r\n",
        "np.copyto(x_test, X_test)\r\n",
        "\r\n",
        "y_test = np.zeros(Y_test.shape)\r\n",
        "np.copyto(y_test, Y_test)"
      ],
      "execution_count": null,
      "outputs": []
    },
    {
      "cell_type": "markdown",
      "metadata": {
        "id": "obRc175SguGc"
      },
      "source": [
        "### Fit Model"
      ]
    },
    {
      "cell_type": "code",
      "metadata": {
        "id": "pL0hkePsguGd"
      },
      "source": [
        "rfModel = RandomForestClassifier(n_estimators = 10, criterion = 'entropy')\r\n",
        "rfModel.fit(x_train, y_train)\r\n",
        "y_pred = rfModel.predict(x_test)"
      ],
      "execution_count": null,
      "outputs": []
    },
    {
      "cell_type": "markdown",
      "metadata": {
        "id": "UB6QuuqDguGd"
      },
      "source": [
        "### Performance Metrics"
      ]
    },
    {
      "cell_type": "code",
      "metadata": {
        "colab": {
          "base_uri": "https://localhost:8080/"
        },
        "id": "YYNYF23FguGd",
        "outputId": "423a68ec-c3e7-4613-df8d-332f5695cea6"
      },
      "source": [
        "print(\"Confusion Matrix is as follows:\")\r\n",
        "rf_cm = confusion_matrix(y_test, y_pred)\r\n",
        "print(rf_cm)\r\n",
        "print(\"\\nThe accuracy is:\")\r\n",
        "rf_acc = accuracy_score(y_test, y_pred) * 100\r\n",
        "print(rf_acc)\r\n",
        "accuracy.append(rf_acc)\r\n",
        "p = precision_score(y_test, y_pred)\r\n",
        "precision.append(p)\r\n",
        "r = recall_score(y_test, y_pred)\r\n",
        "recall.append(r)"
      ],
      "execution_count": null,
      "outputs": [
        {
          "output_type": "stream",
          "text": [
            "Confusion Matrix is as follows:\n",
            "[[4992    9]\n",
            " [   0 5001]]\n",
            "\n",
            "The accuracy is:\n",
            "99.91001799640073\n"
          ],
          "name": "stdout"
        }
      ]
    },
    {
      "cell_type": "markdown",
      "metadata": {
        "id": "f1a7Dp0MIktJ"
      },
      "source": [
        "# Naive Bayes Model"
      ]
    },
    {
      "cell_type": "markdown",
      "metadata": {
        "id": "TP3QBk9XIvWz"
      },
      "source": [
        "### Creating copy of the Data"
      ]
    },
    {
      "cell_type": "code",
      "metadata": {
        "id": "IV_iEUdVIzEo"
      },
      "source": [
        "x_train = np.zeros(X_train.shape)\r\n",
        "np.copyto(x_train, X_train)\r\n",
        "\r\n",
        "y_train = np.zeros(Y_train.shape)\r\n",
        "np.copyto(y_train, Y_train)\r\n",
        "\r\n",
        "x_test = np.zeros(X_test.shape)\r\n",
        "np.copyto(x_test, X_test)\r\n",
        "\r\n",
        "y_test = np.zeros(Y_test.shape)\r\n",
        "np.copyto(y_test, Y_test)"
      ],
      "execution_count": null,
      "outputs": []
    },
    {
      "cell_type": "markdown",
      "metadata": {
        "id": "nR29gqXWKYaV"
      },
      "source": [
        "### Fit Model"
      ]
    },
    {
      "cell_type": "code",
      "metadata": {
        "id": "4nRGxTqnHho_"
      },
      "source": [
        "nbModel = GaussianNB()\r\n",
        "nbModel.fit(x_train, y_train)\r\n",
        "y_pred = nbModel.predict(x_test)"
      ],
      "execution_count": null,
      "outputs": []
    },
    {
      "cell_type": "markdown",
      "metadata": {
        "id": "rfWApFTELYBf"
      },
      "source": [
        "### Performance Metrics"
      ]
    },
    {
      "cell_type": "code",
      "metadata": {
        "colab": {
          "base_uri": "https://localhost:8080/"
        },
        "id": "LXoBtOYELWxg",
        "outputId": "23464763-3f58-490e-a421-6fc39be1e716"
      },
      "source": [
        "print(\"Confusion Matrix is as follows:\")\r\n",
        "nb_cm = confusion_matrix(y_test, y_pred)\r\n",
        "print(nb_cm)\r\n",
        "print(\"\\nThe accuracy is:\")\r\n",
        "nb_acc = accuracy_score(y_test, y_pred) * 100\r\n",
        "print(nb_acc)\r\n",
        "accuracy.append(nb_acc)\r\n",
        "p = precision_score(y_test, y_pred)\r\n",
        "precision.append(p)\r\n",
        "r = recall_score(y_test, y_pred)\r\n",
        "recall.append(r)"
      ],
      "execution_count": null,
      "outputs": [
        {
          "output_type": "stream",
          "text": [
            "Confusion Matrix is as follows:\n",
            "[[2226 2775]\n",
            " [   1 5000]]\n",
            "\n",
            "The accuracy is:\n",
            "72.24555088982204\n"
          ],
          "name": "stdout"
        }
      ]
    },
    {
      "cell_type": "markdown",
      "metadata": {
        "id": "tFlAyZRiMY3a"
      },
      "source": [
        "# K Nearest Neighbours Model"
      ]
    },
    {
      "cell_type": "markdown",
      "metadata": {
        "id": "-Fi3rmLfMe5G"
      },
      "source": [
        "### Creating copy of Data"
      ]
    },
    {
      "cell_type": "code",
      "metadata": {
        "id": "yG6jkjxIMnZo"
      },
      "source": [
        "x_train = np.zeros(X_train.shape)\r\n",
        "np.copyto(x_train, X_train)\r\n",
        "\r\n",
        "y_train = np.zeros(Y_train.shape)\r\n",
        "np.copyto(y_train, Y_train)\r\n",
        "\r\n",
        "x_test = np.zeros(X_test.shape)\r\n",
        "np.copyto(x_test, X_test)\r\n",
        "\r\n",
        "y_test = np.zeros(Y_test.shape)\r\n",
        "np.copyto(y_test, Y_test)"
      ],
      "execution_count": null,
      "outputs": []
    },
    {
      "cell_type": "markdown",
      "metadata": {
        "id": "iPPwXyDbMqtj"
      },
      "source": [
        "### Fit Model"
      ]
    },
    {
      "cell_type": "code",
      "metadata": {
        "id": "ubH-B4BaLj2T"
      },
      "source": [
        "knnModel = KNeighborsClassifier()\r\n",
        "knnModel.fit(x_train, y_train)\r\n",
        "y_pred = knnModel.predict(x_test)"
      ],
      "execution_count": null,
      "outputs": []
    },
    {
      "cell_type": "markdown",
      "metadata": {
        "id": "Rz6uzmzTNPjw"
      },
      "source": [
        "### Performance Metrics"
      ]
    },
    {
      "cell_type": "code",
      "metadata": {
        "colab": {
          "base_uri": "https://localhost:8080/"
        },
        "id": "tiSK7KX6NOsN",
        "outputId": "e92bc429-22ca-4d1d-a7d7-272cd007c30a"
      },
      "source": [
        "print(\"Confusion Matrix is as follows:\")\r\n",
        "knn_cm = confusion_matrix(y_test, y_pred)\r\n",
        "print(knn_cm)\r\n",
        "print(\"\\nThe accuracy is:\")\r\n",
        "knn_acc = accuracy_score(y_test, y_pred) * 100\r\n",
        "print(knn_acc)\r\n",
        "accuracy.append(knn_acc)\r\n",
        "p = precision_score(y_test, y_pred)\r\n",
        "precision.append(p)\r\n",
        "r = recall_score(y_test, y_pred)\r\n",
        "recall.append(r)"
      ],
      "execution_count": null,
      "outputs": [
        {
          "output_type": "stream",
          "text": [
            "Confusion Matrix is as follows:\n",
            "[[4817  184]\n",
            " [ 192 4809]]\n",
            "\n",
            "The accuracy is:\n",
            "96.24075184963007\n"
          ],
          "name": "stdout"
        }
      ]
    },
    {
      "cell_type": "markdown",
      "metadata": {
        "id": "SYxslhchNuAJ"
      },
      "source": [
        "# Neural Networks Model"
      ]
    },
    {
      "cell_type": "markdown",
      "metadata": {
        "id": "U0h9O-8COwov"
      },
      "source": [
        "### Creating copy of the Data"
      ]
    },
    {
      "cell_type": "code",
      "metadata": {
        "id": "Yc-ZxRU2O_NK"
      },
      "source": [
        "x_train = np.zeros(X_train.shape)\r\n",
        "np.copyto(x_train, X_train)\r\n",
        "\r\n",
        "y_train = np.zeros(Y_train.shape)\r\n",
        "np.copyto(y_train, Y_train)\r\n",
        "\r\n",
        "x_test = np.zeros(X_test.shape)\r\n",
        "np.copyto(x_test, X_test)\r\n",
        "\r\n",
        "y_test = np.zeros(Y_test.shape)\r\n",
        "np.copyto(y_test, Y_test)"
      ],
      "execution_count": null,
      "outputs": []
    },
    {
      "cell_type": "markdown",
      "metadata": {
        "id": "5v5YVI6bcF2d"
      },
      "source": [
        "### Scaling Features"
      ]
    },
    {
      "cell_type": "code",
      "metadata": {
        "id": "NcICGH0WcKHH"
      },
      "source": [
        "sc = StandardScaler()\r\n",
        "x_train = sc.fit_transform(x_train)\r\n",
        "x_test = sc.transform(x_test)"
      ],
      "execution_count": null,
      "outputs": []
    },
    {
      "cell_type": "markdown",
      "metadata": {
        "id": "1xi2hGvVPAeb"
      },
      "source": [
        "### Fit Model"
      ]
    },
    {
      "cell_type": "code",
      "metadata": {
        "colab": {
          "base_uri": "https://localhost:8080/"
        },
        "id": "emCneb3fNlmc",
        "outputId": "b796e636-4345-4b08-c888-ac782b1746d7"
      },
      "source": [
        "nnModel = Sequential()\r\n",
        "nnModel.add(Dense(16, input_dim=9, activation='relu'))\r\n",
        "nnModel.add(Dense(16, activation='relu'))\r\n",
        "nnModel.add(Dense(8, activation='relu'))\r\n",
        "nnModel.add(Dense(1, activation='sigmoid'))\r\n",
        "\r\n",
        "adam = Adam(learning_rate=0.01, beta_1=0.9, beta_2=0.999)\r\n",
        "nnModel.compile(optimizer=adam, loss='binary_crossentropy', metrics=[\"accuracy\"])\r\n",
        "nnModel.fit(x_train, y_train, epochs=200, batch_size=100)"
      ],
      "execution_count": null,
      "outputs": [
        {
          "output_type": "stream",
          "text": [
            "Epoch 1/200\n",
            "401/401 [==============================] - 1s 1ms/step - loss: 0.1487 - accuracy: 0.9571\n",
            "Epoch 2/200\n",
            "401/401 [==============================] - 0s 1ms/step - loss: 0.0551 - accuracy: 0.9846\n",
            "Epoch 3/200\n",
            "401/401 [==============================] - 1s 1ms/step - loss: 0.0525 - accuracy: 0.9847\n",
            "Epoch 4/200\n",
            "401/401 [==============================] - 0s 1ms/step - loss: 0.0453 - accuracy: 0.9871\n",
            "Epoch 5/200\n",
            "401/401 [==============================] - 0s 1ms/step - loss: 0.0449 - accuracy: 0.9864\n",
            "Epoch 6/200\n",
            "401/401 [==============================] - 0s 1ms/step - loss: 0.0431 - accuracy: 0.9871\n",
            "Epoch 7/200\n",
            "401/401 [==============================] - 0s 1ms/step - loss: 0.0399 - accuracy: 0.9883\n",
            "Epoch 8/200\n",
            "401/401 [==============================] - 0s 1ms/step - loss: 0.0425 - accuracy: 0.9869\n",
            "Epoch 9/200\n",
            "401/401 [==============================] - 0s 1ms/step - loss: 0.0400 - accuracy: 0.9883\n",
            "Epoch 10/200\n",
            "401/401 [==============================] - 0s 1ms/step - loss: 0.0382 - accuracy: 0.9889\n",
            "Epoch 11/200\n",
            "401/401 [==============================] - 0s 1ms/step - loss: 0.0368 - accuracy: 0.9895\n",
            "Epoch 12/200\n",
            "401/401 [==============================] - 0s 1ms/step - loss: 0.0354 - accuracy: 0.9897\n",
            "Epoch 13/200\n",
            "401/401 [==============================] - 0s 1ms/step - loss: 0.0338 - accuracy: 0.9906\n",
            "Epoch 14/200\n",
            "401/401 [==============================] - 0s 1ms/step - loss: 0.0334 - accuracy: 0.9903\n",
            "Epoch 15/200\n",
            "401/401 [==============================] - 0s 1ms/step - loss: 0.0374 - accuracy: 0.9885\n",
            "Epoch 16/200\n",
            "401/401 [==============================] - 0s 1ms/step - loss: 0.0396 - accuracy: 0.9877\n",
            "Epoch 17/200\n",
            "401/401 [==============================] - 0s 1ms/step - loss: 0.0355 - accuracy: 0.9902\n",
            "Epoch 18/200\n",
            "401/401 [==============================] - 0s 1ms/step - loss: 0.0315 - accuracy: 0.9910\n",
            "Epoch 19/200\n",
            "401/401 [==============================] - 0s 1ms/step - loss: 0.0330 - accuracy: 0.9908\n",
            "Epoch 20/200\n",
            "401/401 [==============================] - 0s 1ms/step - loss: 0.0339 - accuracy: 0.9904\n",
            "Epoch 21/200\n",
            "401/401 [==============================] - 0s 1ms/step - loss: 0.0329 - accuracy: 0.9906\n",
            "Epoch 22/200\n",
            "401/401 [==============================] - 0s 1ms/step - loss: 0.0306 - accuracy: 0.9915\n",
            "Epoch 23/200\n",
            "401/401 [==============================] - 0s 1ms/step - loss: 0.0310 - accuracy: 0.9908\n",
            "Epoch 24/200\n",
            "401/401 [==============================] - 0s 1ms/step - loss: 0.0288 - accuracy: 0.9908\n",
            "Epoch 25/200\n",
            "401/401 [==============================] - 0s 1ms/step - loss: 0.0333 - accuracy: 0.9902\n",
            "Epoch 26/200\n",
            "401/401 [==============================] - 0s 1ms/step - loss: 0.0422 - accuracy: 0.9875\n",
            "Epoch 27/200\n",
            "401/401 [==============================] - 0s 1ms/step - loss: 0.0348 - accuracy: 0.9896\n",
            "Epoch 28/200\n",
            "401/401 [==============================] - 0s 1ms/step - loss: 0.0294 - accuracy: 0.9918\n",
            "Epoch 29/200\n",
            "401/401 [==============================] - 0s 1ms/step - loss: 0.0303 - accuracy: 0.9907\n",
            "Epoch 30/200\n",
            "401/401 [==============================] - 0s 1ms/step - loss: 0.0337 - accuracy: 0.9897\n",
            "Epoch 31/200\n",
            "401/401 [==============================] - 0s 1ms/step - loss: 0.0343 - accuracy: 0.9895\n",
            "Epoch 32/200\n",
            "401/401 [==============================] - 0s 1ms/step - loss: 0.0289 - accuracy: 0.9919\n",
            "Epoch 33/200\n",
            "401/401 [==============================] - 0s 1ms/step - loss: 0.0314 - accuracy: 0.9914\n",
            "Epoch 34/200\n",
            "401/401 [==============================] - 0s 1ms/step - loss: 0.0562 - accuracy: 0.9824\n",
            "Epoch 35/200\n",
            "401/401 [==============================] - 0s 1ms/step - loss: 0.0398 - accuracy: 0.9872\n",
            "Epoch 36/200\n",
            "401/401 [==============================] - 1s 1ms/step - loss: 0.0372 - accuracy: 0.9879\n",
            "Epoch 37/200\n",
            "401/401 [==============================] - 0s 1ms/step - loss: 0.0401 - accuracy: 0.9864\n",
            "Epoch 38/200\n",
            "401/401 [==============================] - 0s 1ms/step - loss: 0.0379 - accuracy: 0.9876\n",
            "Epoch 39/200\n",
            "401/401 [==============================] - 0s 1ms/step - loss: 0.0381 - accuracy: 0.9878\n",
            "Epoch 40/200\n",
            "401/401 [==============================] - 0s 1ms/step - loss: 0.0311 - accuracy: 0.9897\n",
            "Epoch 41/200\n",
            "401/401 [==============================] - 0s 1ms/step - loss: 0.0401 - accuracy: 0.9875\n",
            "Epoch 42/200\n",
            "401/401 [==============================] - 0s 1ms/step - loss: 0.0305 - accuracy: 0.9910\n",
            "Epoch 43/200\n",
            "401/401 [==============================] - 0s 1ms/step - loss: 0.0293 - accuracy: 0.9914\n",
            "Epoch 44/200\n",
            "401/401 [==============================] - 0s 1ms/step - loss: 0.0305 - accuracy: 0.9907\n",
            "Epoch 45/200\n",
            "401/401 [==============================] - 0s 1ms/step - loss: 0.0307 - accuracy: 0.9908\n",
            "Epoch 46/200\n",
            "401/401 [==============================] - 0s 1ms/step - loss: 0.0303 - accuracy: 0.9912\n",
            "Epoch 47/200\n",
            "401/401 [==============================] - 0s 1ms/step - loss: 0.0320 - accuracy: 0.9906\n",
            "Epoch 48/200\n",
            "401/401 [==============================] - 0s 1ms/step - loss: 0.0343 - accuracy: 0.9901\n",
            "Epoch 49/200\n",
            "401/401 [==============================] - 0s 1ms/step - loss: 0.0267 - accuracy: 0.9919\n",
            "Epoch 50/200\n",
            "401/401 [==============================] - 0s 1ms/step - loss: 0.0274 - accuracy: 0.9914\n",
            "Epoch 51/200\n",
            "401/401 [==============================] - 1s 1ms/step - loss: 0.0319 - accuracy: 0.9898\n",
            "Epoch 52/200\n",
            "401/401 [==============================] - 0s 1ms/step - loss: 0.0294 - accuracy: 0.9920\n",
            "Epoch 53/200\n",
            "401/401 [==============================] - 1s 1ms/step - loss: 0.0269 - accuracy: 0.9921\n",
            "Epoch 54/200\n",
            "401/401 [==============================] - 0s 1ms/step - loss: 0.0268 - accuracy: 0.9917\n",
            "Epoch 55/200\n",
            "401/401 [==============================] - 0s 1ms/step - loss: 0.0277 - accuracy: 0.9915\n",
            "Epoch 56/200\n",
            "401/401 [==============================] - 0s 1ms/step - loss: 0.0265 - accuracy: 0.9921\n",
            "Epoch 57/200\n",
            "401/401 [==============================] - 0s 1ms/step - loss: 0.0297 - accuracy: 0.9914\n",
            "Epoch 58/200\n",
            "401/401 [==============================] - 0s 1ms/step - loss: 0.0274 - accuracy: 0.9915\n",
            "Epoch 59/200\n",
            "401/401 [==============================] - 0s 1ms/step - loss: 0.0268 - accuracy: 0.9918\n",
            "Epoch 60/200\n",
            "401/401 [==============================] - 0s 1ms/step - loss: 0.0273 - accuracy: 0.9917\n",
            "Epoch 61/200\n",
            "401/401 [==============================] - 0s 1ms/step - loss: 0.0264 - accuracy: 0.9918\n",
            "Epoch 62/200\n",
            "401/401 [==============================] - 0s 1ms/step - loss: 0.0281 - accuracy: 0.9913\n",
            "Epoch 63/200\n",
            "401/401 [==============================] - 0s 1ms/step - loss: 0.0260 - accuracy: 0.9926\n",
            "Epoch 64/200\n",
            "401/401 [==============================] - 0s 1ms/step - loss: 0.0279 - accuracy: 0.9919\n",
            "Epoch 65/200\n",
            "401/401 [==============================] - 1s 1ms/step - loss: 0.0255 - accuracy: 0.9919\n",
            "Epoch 66/200\n",
            "401/401 [==============================] - 0s 1ms/step - loss: 0.0248 - accuracy: 0.9919\n",
            "Epoch 67/200\n",
            "401/401 [==============================] - 0s 1ms/step - loss: 0.0262 - accuracy: 0.9921\n",
            "Epoch 68/200\n",
            "401/401 [==============================] - 0s 1ms/step - loss: 0.0274 - accuracy: 0.9921\n",
            "Epoch 69/200\n",
            "401/401 [==============================] - 0s 1ms/step - loss: 0.0258 - accuracy: 0.9923\n",
            "Epoch 70/200\n",
            "401/401 [==============================] - 0s 1ms/step - loss: 0.0290 - accuracy: 0.9913\n",
            "Epoch 71/200\n",
            "401/401 [==============================] - 0s 1ms/step - loss: 0.0265 - accuracy: 0.9920\n",
            "Epoch 72/200\n",
            "401/401 [==============================] - 0s 1ms/step - loss: 0.0276 - accuracy: 0.9908\n",
            "Epoch 73/200\n",
            "401/401 [==============================] - 0s 1ms/step - loss: 0.0516 - accuracy: 0.9823\n",
            "Epoch 74/200\n",
            "401/401 [==============================] - 1s 1ms/step - loss: 0.0322 - accuracy: 0.9901\n",
            "Epoch 75/200\n",
            "401/401 [==============================] - 0s 1ms/step - loss: 0.0324 - accuracy: 0.9896\n",
            "Epoch 76/200\n",
            "401/401 [==============================] - 0s 1ms/step - loss: 0.0309 - accuracy: 0.9906\n",
            "Epoch 77/200\n",
            "401/401 [==============================] - 0s 1ms/step - loss: 0.0262 - accuracy: 0.9921\n",
            "Epoch 78/200\n",
            "401/401 [==============================] - 0s 1ms/step - loss: 0.0283 - accuracy: 0.9915\n",
            "Epoch 79/200\n",
            "401/401 [==============================] - 0s 1ms/step - loss: 0.0284 - accuracy: 0.9911\n",
            "Epoch 80/200\n",
            "401/401 [==============================] - 0s 1ms/step - loss: 0.0283 - accuracy: 0.9912\n",
            "Epoch 81/200\n",
            "401/401 [==============================] - 0s 1ms/step - loss: 0.0294 - accuracy: 0.9917\n",
            "Epoch 82/200\n",
            "401/401 [==============================] - 0s 1ms/step - loss: 0.0267 - accuracy: 0.9919\n",
            "Epoch 83/200\n",
            "401/401 [==============================] - 0s 1ms/step - loss: 0.0269 - accuracy: 0.9922\n",
            "Epoch 84/200\n",
            "401/401 [==============================] - 0s 1ms/step - loss: 0.0254 - accuracy: 0.9929\n",
            "Epoch 85/200\n",
            "401/401 [==============================] - 0s 1ms/step - loss: 0.0276 - accuracy: 0.9919\n",
            "Epoch 86/200\n",
            "401/401 [==============================] - 1s 1ms/step - loss: 0.0251 - accuracy: 0.9918\n",
            "Epoch 87/200\n",
            "401/401 [==============================] - 0s 1ms/step - loss: 0.0243 - accuracy: 0.9926\n",
            "Epoch 88/200\n",
            "401/401 [==============================] - 0s 1ms/step - loss: 0.0285 - accuracy: 0.9901\n",
            "Epoch 89/200\n",
            "401/401 [==============================] - 0s 1ms/step - loss: 0.0280 - accuracy: 0.9914\n",
            "Epoch 90/200\n",
            "401/401 [==============================] - 0s 1ms/step - loss: 0.0251 - accuracy: 0.9927\n",
            "Epoch 91/200\n",
            "401/401 [==============================] - 0s 1ms/step - loss: 0.0263 - accuracy: 0.9924\n",
            "Epoch 92/200\n",
            "401/401 [==============================] - 0s 1ms/step - loss: 0.0244 - accuracy: 0.9917\n",
            "Epoch 93/200\n",
            "401/401 [==============================] - 0s 1ms/step - loss: 0.0237 - accuracy: 0.9932\n",
            "Epoch 94/200\n",
            "401/401 [==============================] - 0s 1ms/step - loss: 0.0252 - accuracy: 0.9921\n",
            "Epoch 95/200\n",
            "401/401 [==============================] - 0s 1ms/step - loss: 0.0253 - accuracy: 0.9925\n",
            "Epoch 96/200\n",
            "401/401 [==============================] - 1s 1ms/step - loss: 0.0257 - accuracy: 0.9920\n",
            "Epoch 97/200\n",
            "401/401 [==============================] - 0s 1ms/step - loss: 0.0293 - accuracy: 0.9908\n",
            "Epoch 98/200\n",
            "401/401 [==============================] - 1s 1ms/step - loss: 0.0231 - accuracy: 0.9923\n",
            "Epoch 99/200\n",
            "401/401 [==============================] - 1s 1ms/step - loss: 0.0304 - accuracy: 0.9906\n",
            "Epoch 100/200\n",
            "401/401 [==============================] - 1s 1ms/step - loss: 0.0255 - accuracy: 0.9918\n",
            "Epoch 101/200\n",
            "401/401 [==============================] - 0s 1ms/step - loss: 0.0249 - accuracy: 0.9928\n",
            "Epoch 102/200\n",
            "401/401 [==============================] - 0s 1ms/step - loss: 0.0268 - accuracy: 0.9920\n",
            "Epoch 103/200\n",
            "401/401 [==============================] - 0s 1ms/step - loss: 0.0271 - accuracy: 0.9915\n",
            "Epoch 104/200\n",
            "401/401 [==============================] - 0s 1ms/step - loss: 0.0232 - accuracy: 0.9930\n",
            "Epoch 105/200\n",
            "401/401 [==============================] - 0s 1ms/step - loss: 0.0227 - accuracy: 0.9924\n",
            "Epoch 106/200\n",
            "401/401 [==============================] - 0s 1ms/step - loss: 0.0269 - accuracy: 0.9920\n",
            "Epoch 107/200\n",
            "401/401 [==============================] - 1s 1ms/step - loss: 0.0239 - accuracy: 0.9930\n",
            "Epoch 108/200\n",
            "401/401 [==============================] - 0s 1ms/step - loss: 0.0283 - accuracy: 0.9916\n",
            "Epoch 109/200\n",
            "401/401 [==============================] - 1s 1ms/step - loss: 0.0236 - accuracy: 0.9928\n",
            "Epoch 110/200\n",
            "401/401 [==============================] - 0s 1ms/step - loss: 0.0233 - accuracy: 0.9926\n",
            "Epoch 111/200\n",
            "401/401 [==============================] - 0s 1ms/step - loss: 0.0226 - accuracy: 0.9934\n",
            "Epoch 112/200\n",
            "401/401 [==============================] - 0s 1ms/step - loss: 0.0273 - accuracy: 0.9886\n",
            "Epoch 113/200\n",
            "401/401 [==============================] - 0s 1ms/step - loss: 0.0242 - accuracy: 0.9922\n",
            "Epoch 114/200\n",
            "401/401 [==============================] - 0s 1ms/step - loss: 0.0210 - accuracy: 0.9932\n",
            "Epoch 115/200\n",
            "401/401 [==============================] - 0s 1ms/step - loss: 0.0258 - accuracy: 0.9921\n",
            "Epoch 116/200\n",
            "401/401 [==============================] - 0s 1ms/step - loss: 0.0236 - accuracy: 0.9925\n",
            "Epoch 117/200\n",
            "401/401 [==============================] - 0s 1ms/step - loss: 0.0277 - accuracy: 0.9924\n",
            "Epoch 118/200\n",
            "401/401 [==============================] - 0s 1ms/step - loss: 0.0249 - accuracy: 0.9925\n",
            "Epoch 119/200\n",
            "401/401 [==============================] - 0s 1ms/step - loss: 0.0237 - accuracy: 0.9930\n",
            "Epoch 120/200\n",
            "401/401 [==============================] - 0s 1ms/step - loss: 0.0213 - accuracy: 0.9930\n",
            "Epoch 121/200\n",
            "401/401 [==============================] - 0s 1ms/step - loss: 0.0253 - accuracy: 0.9905\n",
            "Epoch 122/200\n",
            "401/401 [==============================] - 0s 1ms/step - loss: 0.0285 - accuracy: 0.9915\n",
            "Epoch 123/200\n",
            "401/401 [==============================] - 1s 1ms/step - loss: 0.0247 - accuracy: 0.9927\n",
            "Epoch 124/200\n",
            "401/401 [==============================] - 0s 1ms/step - loss: 0.0236 - accuracy: 0.9930\n",
            "Epoch 125/200\n",
            "401/401 [==============================] - 0s 1ms/step - loss: 0.0217 - accuracy: 0.9933\n",
            "Epoch 126/200\n",
            "401/401 [==============================] - 0s 1ms/step - loss: 0.0257 - accuracy: 0.9928\n",
            "Epoch 127/200\n",
            "401/401 [==============================] - 0s 1ms/step - loss: 0.0270 - accuracy: 0.9920\n",
            "Epoch 128/200\n",
            "401/401 [==============================] - 1s 1ms/step - loss: 0.0237 - accuracy: 0.9927\n",
            "Epoch 129/200\n",
            "401/401 [==============================] - 0s 1ms/step - loss: 0.0245 - accuracy: 0.9928\n",
            "Epoch 130/200\n",
            "401/401 [==============================] - 0s 1ms/step - loss: 0.0247 - accuracy: 0.9928\n",
            "Epoch 131/200\n",
            "401/401 [==============================] - 1s 1ms/step - loss: 0.0257 - accuracy: 0.9922\n",
            "Epoch 132/200\n",
            "401/401 [==============================] - 0s 1ms/step - loss: 0.0223 - accuracy: 0.9932\n",
            "Epoch 133/200\n",
            "401/401 [==============================] - 0s 1ms/step - loss: 0.0213 - accuracy: 0.9937\n",
            "Epoch 134/200\n",
            "401/401 [==============================] - 0s 1ms/step - loss: 0.0249 - accuracy: 0.9924\n",
            "Epoch 135/200\n",
            "401/401 [==============================] - 0s 1ms/step - loss: 0.0229 - accuracy: 0.9924\n",
            "Epoch 136/200\n",
            "401/401 [==============================] - 1s 1ms/step - loss: 0.0224 - accuracy: 0.9932\n",
            "Epoch 137/200\n",
            "401/401 [==============================] - 0s 1ms/step - loss: 0.0233 - accuracy: 0.9923\n",
            "Epoch 138/200\n",
            "401/401 [==============================] - 0s 1ms/step - loss: 0.0244 - accuracy: 0.9925\n",
            "Epoch 139/200\n",
            "401/401 [==============================] - 0s 1ms/step - loss: 0.0250 - accuracy: 0.9924\n",
            "Epoch 140/200\n",
            "401/401 [==============================] - 0s 1ms/step - loss: 0.0250 - accuracy: 0.9924\n",
            "Epoch 141/200\n",
            "401/401 [==============================] - 0s 1ms/step - loss: 0.0229 - accuracy: 0.9928\n",
            "Epoch 142/200\n",
            "401/401 [==============================] - 1s 1ms/step - loss: 0.0228 - accuracy: 0.9934\n",
            "Epoch 143/200\n",
            "401/401 [==============================] - 0s 1ms/step - loss: 0.0211 - accuracy: 0.9938\n",
            "Epoch 144/200\n",
            "401/401 [==============================] - 0s 1ms/step - loss: 0.0246 - accuracy: 0.9922\n",
            "Epoch 145/200\n",
            "401/401 [==============================] - 0s 1ms/step - loss: 0.0324 - accuracy: 0.9906\n",
            "Epoch 146/200\n",
            "401/401 [==============================] - 0s 1ms/step - loss: 0.0312 - accuracy: 0.9896\n",
            "Epoch 147/200\n",
            "401/401 [==============================] - 1s 1ms/step - loss: 0.0309 - accuracy: 0.9917\n",
            "Epoch 148/200\n",
            "401/401 [==============================] - 0s 1ms/step - loss: 0.0224 - accuracy: 0.9928\n",
            "Epoch 149/200\n",
            "401/401 [==============================] - 0s 1ms/step - loss: 0.0218 - accuracy: 0.9930\n",
            "Epoch 150/200\n",
            "401/401 [==============================] - 1s 1ms/step - loss: 0.0227 - accuracy: 0.9927\n",
            "Epoch 151/200\n",
            "401/401 [==============================] - 0s 1ms/step - loss: 0.0249 - accuracy: 0.9926\n",
            "Epoch 152/200\n",
            "401/401 [==============================] - 1s 1ms/step - loss: 0.0273 - accuracy: 0.9918\n",
            "Epoch 153/200\n",
            "401/401 [==============================] - 0s 1ms/step - loss: 0.0242 - accuracy: 0.9926\n",
            "Epoch 154/200\n",
            "401/401 [==============================] - 0s 1ms/step - loss: 0.0218 - accuracy: 0.9933\n",
            "Epoch 155/200\n",
            "401/401 [==============================] - 0s 1ms/step - loss: 0.0244 - accuracy: 0.9924\n",
            "Epoch 156/200\n",
            "401/401 [==============================] - 0s 1ms/step - loss: 0.0246 - accuracy: 0.9925\n",
            "Epoch 157/200\n",
            "401/401 [==============================] - 0s 1ms/step - loss: 0.0241 - accuracy: 0.9930\n",
            "Epoch 158/200\n",
            "401/401 [==============================] - 0s 1ms/step - loss: 0.0226 - accuracy: 0.9932\n",
            "Epoch 159/200\n",
            "401/401 [==============================] - 1s 1ms/step - loss: 0.0233 - accuracy: 0.9930\n",
            "Epoch 160/200\n",
            "401/401 [==============================] - 1s 1ms/step - loss: 0.0238 - accuracy: 0.9924\n",
            "Epoch 161/200\n",
            "401/401 [==============================] - 0s 1ms/step - loss: 0.0227 - accuracy: 0.9930\n",
            "Epoch 162/200\n",
            "401/401 [==============================] - 1s 1ms/step - loss: 0.0247 - accuracy: 0.9924\n",
            "Epoch 163/200\n",
            "401/401 [==============================] - 0s 1ms/step - loss: 0.0231 - accuracy: 0.9929\n",
            "Epoch 164/200\n",
            "401/401 [==============================] - 1s 1ms/step - loss: 0.0225 - accuracy: 0.9925\n",
            "Epoch 165/200\n",
            "401/401 [==============================] - 0s 1ms/step - loss: 0.0197 - accuracy: 0.9945\n",
            "Epoch 166/200\n",
            "401/401 [==============================] - 0s 1ms/step - loss: 0.0210 - accuracy: 0.9935\n",
            "Epoch 167/200\n",
            "401/401 [==============================] - 0s 1ms/step - loss: 0.0211 - accuracy: 0.9933\n",
            "Epoch 168/200\n",
            "401/401 [==============================] - 0s 1ms/step - loss: 0.0223 - accuracy: 0.9937\n",
            "Epoch 169/200\n",
            "401/401 [==============================] - 0s 1ms/step - loss: 0.0191 - accuracy: 0.9945\n",
            "Epoch 170/200\n",
            "401/401 [==============================] - 0s 1ms/step - loss: 0.0239 - accuracy: 0.9924\n",
            "Epoch 171/200\n",
            "401/401 [==============================] - 0s 1ms/step - loss: 0.0232 - accuracy: 0.9929\n",
            "Epoch 172/200\n",
            "401/401 [==============================] - 0s 1ms/step - loss: 0.0216 - accuracy: 0.9931\n",
            "Epoch 173/200\n",
            "401/401 [==============================] - 1s 1ms/step - loss: 0.0219 - accuracy: 0.9936\n",
            "Epoch 174/200\n",
            "401/401 [==============================] - 0s 1ms/step - loss: 0.0201 - accuracy: 0.9935\n",
            "Epoch 175/200\n",
            "401/401 [==============================] - 0s 1ms/step - loss: 0.0229 - accuracy: 0.9927\n",
            "Epoch 176/200\n",
            "401/401 [==============================] - 0s 1ms/step - loss: 0.0224 - accuracy: 0.9929\n",
            "Epoch 177/200\n",
            "401/401 [==============================] - 0s 1ms/step - loss: 0.0233 - accuracy: 0.9930\n",
            "Epoch 178/200\n",
            "401/401 [==============================] - 0s 1ms/step - loss: 0.0234 - accuracy: 0.9925\n",
            "Epoch 179/200\n",
            "401/401 [==============================] - 0s 1ms/step - loss: 0.0304 - accuracy: 0.9914\n",
            "Epoch 180/200\n",
            "401/401 [==============================] - 1s 1ms/step - loss: 0.0275 - accuracy: 0.9919\n",
            "Epoch 181/200\n",
            "401/401 [==============================] - 0s 1ms/step - loss: 0.0232 - accuracy: 0.9928\n",
            "Epoch 182/200\n",
            "401/401 [==============================] - 0s 1ms/step - loss: 0.0221 - accuracy: 0.9932\n",
            "Epoch 183/200\n",
            "401/401 [==============================] - 0s 1ms/step - loss: 0.0225 - accuracy: 0.9935\n",
            "Epoch 184/200\n",
            "401/401 [==============================] - 0s 1ms/step - loss: 0.0214 - accuracy: 0.9926\n",
            "Epoch 185/200\n",
            "401/401 [==============================] - 1s 1ms/step - loss: 0.0244 - accuracy: 0.9925\n",
            "Epoch 186/200\n",
            "401/401 [==============================] - 0s 1ms/step - loss: 0.0208 - accuracy: 0.9936\n",
            "Epoch 187/200\n",
            "401/401 [==============================] - 1s 1ms/step - loss: 0.0252 - accuracy: 0.9926\n",
            "Epoch 188/200\n",
            "401/401 [==============================] - 0s 1ms/step - loss: 0.0286 - accuracy: 0.9922\n",
            "Epoch 189/200\n",
            "401/401 [==============================] - 1s 1ms/step - loss: 0.0236 - accuracy: 0.9927\n",
            "Epoch 190/200\n",
            "401/401 [==============================] - 1s 1ms/step - loss: 0.0268 - accuracy: 0.9912\n",
            "Epoch 191/200\n",
            "401/401 [==============================] - 0s 1ms/step - loss: 0.0221 - accuracy: 0.9928\n",
            "Epoch 192/200\n",
            "401/401 [==============================] - 0s 1ms/step - loss: 0.0246 - accuracy: 0.9930\n",
            "Epoch 193/200\n",
            "401/401 [==============================] - 0s 1ms/step - loss: 0.0230 - accuracy: 0.9928\n",
            "Epoch 194/200\n",
            "401/401 [==============================] - 0s 1ms/step - loss: 0.0232 - accuracy: 0.9926\n",
            "Epoch 195/200\n",
            "401/401 [==============================] - 0s 1ms/step - loss: 0.0231 - accuracy: 0.9933\n",
            "Epoch 196/200\n",
            "401/401 [==============================] - 0s 1ms/step - loss: 0.0238 - accuracy: 0.9920\n",
            "Epoch 197/200\n",
            "401/401 [==============================] - 1s 1ms/step - loss: 0.0245 - accuracy: 0.9930\n",
            "Epoch 198/200\n",
            "401/401 [==============================] - 1s 1ms/step - loss: 0.0231 - accuracy: 0.9929\n",
            "Epoch 199/200\n",
            "401/401 [==============================] - 1s 1ms/step - loss: 0.0226 - accuracy: 0.9928\n",
            "Epoch 200/200\n",
            "401/401 [==============================] - 0s 1ms/step - loss: 0.0224 - accuracy: 0.9928\n"
          ],
          "name": "stdout"
        },
        {
          "output_type": "execute_result",
          "data": {
            "text/plain": [
              "<tensorflow.python.keras.callbacks.History at 0x7f621c69e1d0>"
            ]
          },
          "metadata": {
            "tags": []
          },
          "execution_count": 30
        }
      ]
    },
    {
      "cell_type": "markdown",
      "metadata": {
        "id": "jWvyRkzdbErf"
      },
      "source": [
        "### Performance Metrics"
      ]
    },
    {
      "cell_type": "code",
      "metadata": {
        "colab": {
          "base_uri": "https://localhost:8080/"
        },
        "id": "tpxu3_c0S6CE",
        "outputId": "f1f3cc70-0749-45d5-d9d1-8657cc94adea"
      },
      "source": [
        "y_p = nnModel.predict(x_test)\r\n",
        "y_p = y_p[:, 0]\r\n",
        "y_pred = []\r\n",
        "for z in y_p:\r\n",
        "  if z>=0.5:\r\n",
        "    y_pred.append(1)\r\n",
        "  else:\r\n",
        "    y_pred.append(0)\r\n",
        "\r\n",
        "\r\n",
        "print(\"Confusion Matrix is as follows:\")\r\n",
        "nn_cm = confusion_matrix(y_test, y_pred)\r\n",
        "print(nn_cm)\r\n",
        "print(\"\\nThe accuracy is:\")\r\n",
        "nn_acc = accuracy_score(y_test, y_pred) * 100\r\n",
        "print(nn_acc)\r\n",
        "accuracy.append(nn_acc)\r\n",
        "p = precision_score(y_test, y_pred)\r\n",
        "precision.append(p)\r\n",
        "r = recall_score(y_test, y_pred)\r\n",
        "recall.append(r)"
      ],
      "execution_count": null,
      "outputs": [
        {
          "output_type": "stream",
          "text": [
            "Confusion Matrix is as follows:\n",
            "[[4914   87]\n",
            " [   2 4999]]\n",
            "\n",
            "The accuracy is:\n",
            "99.11017796440711\n"
          ],
          "name": "stdout"
        }
      ]
    },
    {
      "cell_type": "code",
      "metadata": {
        "colab": {
          "base_uri": "https://localhost:8080/",
          "height": 351
        },
        "id": "L74n06UoGYf_",
        "outputId": "830f41f0-8621-4e09-e685-1f5b33d17d10"
      },
      "source": [
        "algos = ['SVM', 'LR', 'DT', 'RF', 'NB', 'KNN', 'NN']\n",
        "\n",
        "fig = plt.figure()\n",
        "ax = fig.add_axes([0,0,1,1])\n",
        "\n",
        "ax.bar(algos,accuracy)\n",
        "plt.title(\"Accuracy\")\n",
        "plt.ylim(60, 100)\n",
        "plt.show()"
      ],
      "execution_count": null,
      "outputs": [
        {
          "output_type": "display_data",
          "data": {
            "image/png": "[encoded data removed]",
            "text/plain": [
              "<Figure size 432x288 with 1 Axes>"
            ]
          },
          "metadata": {
            "tags": [],
            "needs_background": "light"
          }
        }
      ]
    },
    {
      "cell_type": "code",
      "metadata": {
        "colab": {
          "base_uri": "https://localhost:8080/",
          "height": 351
        },
        "id": "FWxNvSJiTu7g",
        "outputId": "7a933139-fafc-4ccd-b983-0e19983c745d"
      },
      "source": [
        "fig = plt.figure()\n",
        "ax = fig.add_axes([0,0,1,1])\n",
        "\n",
        "ax.bar(algos,precision)\n",
        "plt.title(\"Precision\")\n",
        "plt.show()"
      ],
      "execution_count": null,
      "outputs": [
        {
          "output_type": "display_data",
          "data": {
            "image/png": "[encoded data removed]",
            "text/plain": [
              "<Figure size 432x288 with 1 Axes>"
            ]
          },
          "metadata": {
            "tags": [],
            "needs_background": "light"
          }
        }
      ]
    },
    {
      "cell_type": "code",
      "metadata": {
        "colab": {
          "base_uri": "https://localhost:8080/",
          "height": 351
        },
        "id": "prMqt6yBVeiT",
        "outputId": "7e889951-bb1d-4669-8a77-7b25cee42a94"
      },
      "source": [
        "fig = plt.figure()\n",
        "ax = fig.add_axes([0,0,1,1])\n",
        "\n",
        "ax.bar(algos,recall)\n",
        "plt.title(\"Recall\")\n",
        "plt.show()"
      ],
      "execution_count": null,
      "outputs": [
        {
          "output_type": "display_data",
          "data": {
            "image/png": "[encoded data removed]",
            "text/plain": [
              "<Figure size 432x288 with 1 Axes>"
            ]
          },
          "metadata": {
            "tags": [],
            "needs_background": "light"
          }
        }
      ]
    },
    {
      "cell_type": "code",
      "metadata": {
        "id": "pE_PqSiRVsfJ"
      },
      "source": [
        ""
      ],
      "execution_count": null,
      "outputs": []
    }
  ]
}